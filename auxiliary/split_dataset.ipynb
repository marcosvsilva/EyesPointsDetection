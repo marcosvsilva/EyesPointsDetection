{
 "cells": [
  {
   "cell_type": "code",
   "execution_count": null,
   "metadata": {},
   "outputs": [],
   "source": [
    "import os\n",
    "import pandas as pd\n",
    "import random\n",
    "import shutil"
   ]
  },
  {
   "cell_type": "code",
   "execution_count": null,
   "metadata": {},
   "outputs": [],
   "source": [
    "path = os.getcwd().replace('/auxiliary', '')\n",
    "data_path = '{}/dataset/out_invert'.format(path)\n",
    "label_path = '{}/dataset/dataset.csv'.format(path)\n",
    "\n",
    "train_path = '{}/dataset/train'.format(path)\n",
    "train_dataset = '{}/dataset/train.csv'.format(path)\n",
    "\n",
    "test_path = '{}/dataset/test'.format(path)\n",
    "test_dataset = '{}/dataset/test.csv'.format(path)"
   ]
  },
  {
   "cell_type": "code",
   "execution_count": null,
   "metadata": {},
   "outputs": [],
   "source": [
    "dataset = pd.read_csv(label_path)\n",
    "print(dataset.head())\n",
    "print(dataset.shape)"
   ]
  },
  {
   "cell_type": "code",
   "execution_count": null,
   "metadata": {},
   "outputs": [],
   "source": [
    "#params\n",
    "\n",
    "train_prop, test_prop = 80, 20\n",
    "\n",
    "quantity = len(os.listdir(data_path))\n",
    "range_train = int(quantity * train_prop / 100)\n",
    "range_test =  quantity - range_train\n",
    "quantity, range_train, range_test"
   ]
  },
  {
   "cell_type": "code",
   "execution_count": null,
   "metadata": {},
   "outputs": [],
   "source": [
    "def add_dataset(path, info):\n",
    "    with open(path, 'a') as fdata:\n",
    "        fdata.write(info + '\\n')"
   ]
  },
  {
   "cell_type": "code",
   "execution_count": null,
   "metadata": {},
   "outputs": [],
   "source": [
    "# split train\n",
    "add_dataset(train_dataset, 'filename,width,height,class,xmin,ymin,xmax,ymax')\n",
    "\n",
    "aux = 0\n",
    "while aux < range_train:\n",
    "    frame = random.randint(1, quantity)\n",
    "    img = '{}/{}.png'.format(data_path, frame)\n",
    "    if os.path.isfile(img):\n",
    "        register = dataset[dataset['filename'] == '{}.png'.format(frame)]\n",
    "\n",
    "        info = '%s,%d,%d,%d,%d,%d,%d,%d' % ('{}.png'.format(frame), int(register['width']),\n",
    "                                            int(register['height']), int(register['class']),\n",
    "                                            int(register['xmin']), int(register['ymin']),\n",
    "                                            int(register['xmax']), int(register['ymax']))\n",
    "        \n",
    "        \n",
    "        add_dataset(train_dataset, info)\n",
    "        shutil.move(img, train_path)\n",
    "        aux += 1"
   ]
  },
  {
   "cell_type": "code",
   "execution_count": null,
   "metadata": {},
   "outputs": [],
   "source": [
    "# split test\n",
    "add_dataset(test_dataset, 'filename,width,height,class,xmin,ymin,xmax,ymax')\n",
    "\n",
    "aux = 0\n",
    "for frame in os.listdir(data_path):\n",
    "    register = dataset[dataset['filename'] == frame]\n",
    "\n",
    "    info = '%s,%d,%d,%d,%d,%d,%d,%d' % (frame, int(register['width']),\n",
    "                                        int(register['height']), int(register['class']),\n",
    "                                        int(register['xmin']), int(register['ymin']),\n",
    "                                        int(register['xmax']), int(register['ymax']))\n",
    "\n",
    "\n",
    "    add_dataset(test_dataset, info)\n",
    "    shutil.move('{}/{}'.format(data_path, frame), test_path)"
   ]
  },
  {
   "cell_type": "code",
   "execution_count": null,
   "metadata": {},
   "outputs": [],
   "source": []
  }
 ],
 "metadata": {
  "kernelspec": {
   "display_name": "Python 3",
   "language": "python",
   "name": "python3"
  },
  "language_info": {
   "codemirror_mode": {
    "name": "ipython",
    "version": 3
   },
   "file_extension": ".py",
   "mimetype": "text/x-python",
   "name": "python",
   "nbconvert_exporter": "python",
   "pygments_lexer": "ipython3",
   "version": "3.7.4"
  }
 },
 "nbformat": 4,
 "nbformat_minor": 2
}
