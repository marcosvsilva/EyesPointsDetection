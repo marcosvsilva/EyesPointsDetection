{
 "cells": [
  {
   "cell_type": "code",
   "execution_count": 1,
   "metadata": {},
   "outputs": [],
   "source": [
    "import os\n",
    "import cv2\n",
    "import math\n",
    "import pandas as pd\n",
    "import numpy as np"
   ]
  },
  {
   "cell_type": "code",
   "execution_count": 2,
   "metadata": {},
   "outputs": [],
   "source": [
    "root = os.getcwd()\n",
    "\n",
    "dataset_path = root + '/dataset'\n",
    "dataset_path_data = dataset_path + '/data'\n",
    "dataset_path_mark = dataset_path_data + '/out_mark'\n",
    "dataset_path_box = dataset_path_data + '/out_box'\n",
    "dataset_path_invert_box = dataset_path_data + '/out_invert'\n",
    "\n",
    "dataset_labels = dataset_path + '/data_labels.csv'\n",
    "\n",
    "dataset_box = dataset_path_box + '/dataset.csv'"
   ]
  },
  {
   "cell_type": "code",
   "execution_count": 4,
   "metadata": {},
   "outputs": [],
   "source": [
    "labels_data = pd.read_csv(dataset_labels)\n",
    "labels_data.head()\n",
    "labels = [x[1] for x in labels_data.iterrows()]"
   ]
  },
  {
   "cell_type": "code",
   "execution_count": 5,
   "metadata": {
    "scrolled": false
   },
   "outputs": [],
   "source": [
    "radius = 10\n",
    "color = (255, 0, 0) \n",
    "thickness = 2\n",
    "rotate = 30\n",
    "\n",
    "rotx = lambda x, y: int(x * math.cos(rotate) - y * math.sin(rotate))\n",
    "roty = lambda x, y: int(x * math.sin(rotate) + y * math.cos(rotate))"
   ]
  },
  {
   "cell_type": "code",
   "execution_count": 6,
   "metadata": {},
   "outputs": [],
   "source": [
    "def add_dataset(info):\n",
    "    with open(dataset_box, 'a') as file:\n",
    "        file.write(info + '\\n')"
   ]
  },
  {
   "cell_type": "code",
   "execution_count": 8,
   "metadata": {},
   "outputs": [],
   "source": [
    "add_dataset('filename,width,height,class,xmin,ymin,xmax,ymax')\n",
    "\n",
    "for label in labels:\n",
    "    frame = '{}/{}.png'.format(dataset_path_data, label['frame'])    \n",
    "    new_frame_mark = '{}/{}.png'.format(dataset_path_mark, label['frame'])\n",
    "    new_frame_box = '{}/{}.png'.format(dataset_path_box, label['frame'])\n",
    "    new_frame_invert = '{}/{}.png'.format(dataset_path_invert, label['frame'])\n",
    "    \n",
    "    img = cv2.imread(frame)\n",
    "    img = cv2.flip(img, 1)\n",
    "    img = cv2.rotate(img, cv2.ROTATE_180)\n",
    "    img_box = np.copy(img)\n",
    "    img_invert = np.copy(img)\n",
    "    \n",
    "    points = []\n",
    "    points.append((label['x1'], label['y1']))\n",
    "    points.append((label['x2'], label['y2']))\n",
    "    points.append((label['x3'], label['y3']))\n",
    "    points.append((label['x4'], label['y4']))\n",
    "    points.append((label['x5'], label['y5']))\n",
    "    points.append((label['x6'], label['y6']))\n",
    "    points.append((label['x7'], label['y7']))\n",
    "    points.append((label['x8'], label['y8']))\n",
    "    points.append((label['x9'], label['y9']))\n",
    "    points.append((label['x10'], label['y10']))\n",
    "    \n",
    "    xmin, ymin, xmax, ymax = 99999, 99999, 0, 0\n",
    "    for point in points:\n",
    "        xmin = point[0] if point[0] < xmin else xmin\n",
    "        ymin = point[1] if point[1] < ymin else ymin\n",
    "        xmax = point[0] if point[0] > xmax else xmax\n",
    "        ymax = point[1] if point[1] > ymax else ymax\n",
    "        \n",
    "        cv2.circle(img, point, radius, color, thickness)\n",
    "    \n",
    "    cv2.rectangle(img_box, (xmin, ymin), (xmax, ymax), color, thickness)\n",
    "    \n",
    "    width, height = img.shape[0:2]\n",
    "    info = '%s.png,%d,%d,%d,%d,%d,%d,%d' % (label['frame'], width, height, 0, xmin, ymin, xmax, ymax)\n",
    "    add_dataset(info)\n",
    "    \n",
    "    img = cv2.rotate(img, cv2.ROTATE_180)\n",
    "    img = cv2.flip(img, 1)\n",
    "    \n",
    "    img_box = cv2.rotate(img_box, cv2.ROTATE_180)\n",
    "    img_box = cv2.flip(img_box, 1)\n",
    "    \n",
    "    cv2.imwrite(new_frame_invert, img_invert)\n",
    "    cv2.imwrite(new_frame_mark, img)\n",
    "    cv2.imwrite(new_frame_box, img_box)"
   ]
  },
  {
   "cell_type": "code",
   "execution_count": null,
   "metadata": {},
   "outputs": [],
   "source": []
  }
 ],
 "metadata": {
  "kernelspec": {
   "display_name": "Python 3",
   "language": "python",
   "name": "python3"
  },
  "language_info": {
   "codemirror_mode": {
    "name": "ipython",
    "version": 3
   },
   "file_extension": ".py",
   "mimetype": "text/x-python",
   "name": "python",
   "nbconvert_exporter": "python",
   "pygments_lexer": "ipython3",
   "version": "3.7.4"
  }
 },
 "nbformat": 4,
 "nbformat_minor": 2
}
